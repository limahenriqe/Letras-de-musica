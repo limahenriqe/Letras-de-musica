{
 "cells": [
  {
   "cell_type": "code",
   "execution_count": 7,
   "id": "68d63473",
   "metadata": {},
   "outputs": [
    {
     "name": "stdout",
     "output_type": "stream",
     "text": [
      "504\n"
     ]
    }
   ],
   "source": [
    "import requests\n",
    "\n",
    "endpoint = \"https://api.lyrics.ovh/v1/miley-cyrus/loppdw\"\n",
    "\n",
    "response = requests.get(endpoint)\n",
    "print(response.status_code)\n",
    "\n",
    "\n"
   ]
  },
  {
   "cell_type": "code",
   "execution_count": null,
   "id": "228fa2a2",
   "metadata": {},
   "outputs": [],
   "source": [
    "#response.status_code #.json() retorna em forma de dicionario a letra da musica / status_code = 200\n",
    "\n",
    "print(response.json()['lyrics'])"
   ]
  }
 ],
 "metadata": {
  "kernelspec": {
   "display_name": "Python 3",
   "language": "python",
   "name": "python3"
  },
  "language_info": {
   "codemirror_mode": {
    "name": "ipython",
    "version": 3
   },
   "file_extension": ".py",
   "mimetype": "text/x-python",
   "name": "python",
   "nbconvert_exporter": "python",
   "pygments_lexer": "ipython3",
   "version": "3.12.1"
  }
 },
 "nbformat": 4,
 "nbformat_minor": 5
}
