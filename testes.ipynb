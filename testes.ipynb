{
 "cells": [
  {
   "cell_type": "code",
   "execution_count": 1,
   "id": "68d63473",
   "metadata": {},
   "outputs": [
    {
     "name": "stdout",
     "output_type": "stream",
     "text": [
      "200\n"
     ]
    }
   ],
   "source": [
    "import requests\n",
    "\n",
    "endpoint = \"https://api.lyrics.ovh/v1/ze-vaqueiro/confidencial\"\n",
    "\n",
    "response = requests.get(endpoint)\n",
    "print(response.status_code)\n",
    "\n",
    "\n"
   ]
  },
  {
   "cell_type": "code",
   "execution_count": 2,
   "id": "228fa2a2",
   "metadata": {},
   "outputs": [
    {
     "name": "stdout",
     "output_type": "stream",
     "text": [
      "E todo mundo\n",
      "Tá desconfiando\n",
      "Que a gente se encontra em segredo\n",
      "Só porque eu tô te encarando\n",
      "Só porque você fica sem jeito\n",
      "\n",
      "Se alguém perguntar\n",
      "\n",
      "Eu nego até a morte\n",
      "\n",
      "Que é pra não dar azar\n",
      "\n",
      "Se é escondido\n",
      "\n",
      "É que tá dando sorte\n",
      "\n",
      "\n",
      "\n",
      "Deixa confidencial\n",
      "\n",
      "E fica comigo\n",
      "\n",
      "Fica comigo\n",
      "\n",
      "\n",
      "\n",
      "Deixa confidencial\n",
      "\n",
      "E fica comigo\n",
      "\n",
      "Fica comigo\n",
      "\n",
      "\n",
      "\n",
      "Ninguém precisa saber\n",
      "\n",
      "Amor só tem que ser vivido\n"
     ]
    }
   ],
   "source": [
    "#response.status_code #.json() retorna em forma de dicionario a letra da musica / status_code = 200\n",
    "\n",
    "print(response.json()['lyrics'])"
   ]
  }
 ],
 "metadata": {
  "kernelspec": {
   "display_name": "Python 3",
   "language": "python",
   "name": "python3"
  },
  "language_info": {
   "codemirror_mode": {
    "name": "ipython",
    "version": 3
   },
   "file_extension": ".py",
   "mimetype": "text/x-python",
   "name": "python",
   "nbconvert_exporter": "python",
   "pygments_lexer": "ipython3",
   "version": "3.12.1"
  }
 },
 "nbformat": 4,
 "nbformat_minor": 5
}
